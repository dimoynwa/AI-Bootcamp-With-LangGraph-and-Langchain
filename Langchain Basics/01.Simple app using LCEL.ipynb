{
 "cells": [
  {
   "cell_type": "markdown",
   "id": "fe945bd4",
   "metadata": {},
   "source": [
    "## Build a simple LLM application using LCEL\n",
    "\n",
    "In this quickstart, we will build a simple LLM application using Langchain. This application will translate text from English to another language. This is relatively simle LLM application - it is just a single LLM call plus some prompting. \n",
    "\n",
    "High level overview:\n",
    "- Using language models\n",
    "- Using PromptTemplates and OutputParsers\n",
    "- Using Langchain Expression Language (LCEL) to chain components together\n",
    "- Debugging and tracing the application in LangSmith\n",
    "- Deploy the application in Langserve"
   ]
  },
  {
   "cell_type": "markdown",
   "id": "26a1e410",
   "metadata": {},
   "source": [
    "For this tutorial we will use [Groq LPU](https://groq.com/blog/the-groq-lpu-explained). For that reasong we need Groq API key, which can be created in [Groq API Keys](https://console.groq.com/home?utm_source=website&utm_medium=outbound_link&utm_campaign=dev_console_click). To call Groq we are using [**LP AI Inferencing Engine**](https://groq.com/blog/the-groq-lpu-explained). \n",
    "\n",
    "But Why GROQ?\n",
    "\n",
    "1. Groq is a Fast AI Inference. \n",
    "2. Uses LPU. LPU stands for Language Processing Unit \n",
    "3. LPU Inference Engine is a hardware and software platform that delivers exceptional compute speed, quality and enery efficiency. \n",
    "4. LPU is designed to overcome 2 LLM bottlenecks - compute density and memory bandwidth. LPU has greater compute capacity than GPU in regards to LLMs. "
   ]
  },
  {
   "cell_type": "code",
   "execution_count": 2,
   "id": "b673aa55",
   "metadata": {},
   "outputs": [
    {
     "name": "stdout",
     "output_type": "stream",
     "text": [
      "Groq API Key: gsk**qNU\n"
     ]
    }
   ],
   "source": [
    "import os\n",
    "from dotenv import load_dotenv\n",
    "\n",
    "load_dotenv()\n",
    "\n",
    "GROQ_API_KEY = os.environ['GROQ_API_KEY']\n",
    "print(f'Groq API Key: {GROQ_API_KEY[:3]}**{GROQ_API_KEY[-3:]}')"
   ]
  },
  {
   "cell_type": "markdown",
   "id": "a953b5a3",
   "metadata": {},
   "source": [
    "Initialize **ChatGroq**. To initialize ChatGroq we need to pass the model name. All the model names can be found in [Groq docs](https://console.groq.com/docs/models)."
   ]
  },
  {
   "cell_type": "code",
   "execution_count": 10,
   "id": "e3fcc72e",
   "metadata": {},
   "outputs": [
    {
     "data": {
      "text/plain": [
       "ChatGroq(client=<groq.resources.chat.completions.Completions object at 0x1229b0a50>, async_client=<groq.resources.chat.completions.AsyncCompletions object at 0x1229b1450>, model_name='Gemma2-9b-It', model_kwargs={}, groq_api_key=SecretStr('**********'))"
      ]
     },
     "execution_count": 10,
     "metadata": {},
     "output_type": "execute_result"
    }
   ],
   "source": [
    "from langchain_groq import ChatGroq\n",
    "\n",
    "model = ChatGroq(model='Gemma2-9b-It', api_key=GROQ_API_KEY)\n",
    "model"
   ]
  },
  {
   "cell_type": "markdown",
   "id": "cd72bd6e",
   "metadata": {},
   "source": [
    "When we chat with the LLM model, we should specify the LLM model which message is provided by the human and which message is kind of **instruction** to the LLM. \n",
    "\n",
    "- **SystemMessage** - instruction how the LLM should behave"
   ]
  },
  {
   "cell_type": "code",
   "execution_count": 11,
   "id": "7114f719",
   "metadata": {},
   "outputs": [
    {
     "data": {
      "text/plain": [
       "ChatPromptTemplate(input_variables=['input', 'sourceLanguage', 'targetLanguage'], input_types={}, partial_variables={}, messages=[SystemMessagePromptTemplate(prompt=PromptTemplate(input_variables=['sourceLanguage', 'targetLanguage'], input_types={}, partial_variables={}, template='Translate provided sentence from {sourceLanguage} to {targetLanguage}'), additional_kwargs={}), HumanMessagePromptTemplate(prompt=PromptTemplate(input_variables=['input'], input_types={}, partial_variables={}, template='{input}'), additional_kwargs={})])\n",
       "| ChatGroq(client=<groq.resources.chat.completions.Completions object at 0x1229b0a50>, async_client=<groq.resources.chat.completions.AsyncCompletions object at 0x1229b1450>, model_name='Gemma2-9b-It', model_kwargs={}, groq_api_key=SecretStr('**********'))"
      ]
     },
     "execution_count": 11,
     "metadata": {},
     "output_type": "execute_result"
    }
   ],
   "source": [
    "from langchain_core.prompts import ChatPromptTemplate\n",
    "\n",
    "prompt = ChatPromptTemplate.from_messages([\n",
    "    ('system', 'Translate provided sentence from {sourceLanguage} to {targetLanguage}'),\n",
    "    ('user', '{input}')\n",
    "])\n",
    "\n",
    "chain = prompt | model\n",
    "chain"
   ]
  },
  {
   "cell_type": "code",
   "execution_count": 12,
   "id": "02c87833",
   "metadata": {},
   "outputs": [
    {
     "data": {
      "text/plain": [
       "AIMessage(content='Здравей, как си? (Zdravey, kak si?) \\n', additional_kwargs={}, response_metadata={'token_usage': {'completion_tokens': 17, 'prompt_tokens': 22, 'total_tokens': 39, 'completion_time': 0.030909091, 'prompt_time': 0.001324411, 'queue_time': 0.192357574, 'total_time': 0.032233502}, 'model_name': 'Gemma2-9b-It', 'system_fingerprint': 'fp_10c08bf97d', 'service_tier': 'on_demand', 'finish_reason': 'stop', 'logprobs': None}, id='run--40795bd1-3be6-4eb5-aed4-b465d6e93000-0', usage_metadata={'input_tokens': 22, 'output_tokens': 17, 'total_tokens': 39})"
      ]
     },
     "execution_count": 12,
     "metadata": {},
     "output_type": "execute_result"
    }
   ],
   "source": [
    "response = chain.invoke(input={\n",
    "    'sourceLanguage': 'English',\n",
    "    'targetLanguage': 'Bulgarian',\n",
    "    'input': 'Hello, How are you?'\n",
    "})\n",
    "response"
   ]
  },
  {
   "cell_type": "markdown",
   "id": "f3263767",
   "metadata": {},
   "source": [
    "Another way of calling it "
   ]
  },
  {
   "cell_type": "code",
   "execution_count": 13,
   "id": "242ff1fb",
   "metadata": {},
   "outputs": [
    {
     "data": {
      "text/plain": [
       "AIMessage(content='Здравей, как си? (Zdraвей, kak si?) \\n\\n\\nThis is the most common and informal way to say \"Hey, how are you?\" in Bulgarian. \\n', additional_kwargs={}, response_metadata={'token_usage': {'completion_tokens': 39, 'prompt_tokens': 21, 'total_tokens': 60, 'completion_time': 0.070909091, 'prompt_time': 0.001323241, 'queue_time': 0.190184415, 'total_time': 0.072232332}, 'model_name': 'Gemma2-9b-It', 'system_fingerprint': 'fp_10c08bf97d', 'service_tier': 'on_demand', 'finish_reason': 'stop', 'logprobs': None}, id='run--33073df2-6785-433d-bd1d-9bbb7160b52b-0', usage_metadata={'input_tokens': 21, 'output_tokens': 39, 'total_tokens': 60})"
      ]
     },
     "execution_count": 13,
     "metadata": {},
     "output_type": "execute_result"
    }
   ],
   "source": [
    "from langchain_core.messages import SystemMessage, HumanMessage\n",
    "\n",
    "messages = [\n",
    "    SystemMessage(content='Translate this from English to Bulgarian'),\n",
    "    HumanMessage(content='Hey, How are you?')\n",
    "]\n",
    "\n",
    "response = model.invoke(messages)\n",
    "response"
   ]
  },
  {
   "cell_type": "code",
   "execution_count": 14,
   "id": "e462b3bb",
   "metadata": {},
   "outputs": [
    {
     "data": {
      "text/plain": [
       "'Здравей, как си? (Zdraвей, kak si?) \\n\\n\\nThis is the most common and informal way to say \"Hey, how are you?\" in Bulgarian. \\n'"
      ]
     },
     "execution_count": 14,
     "metadata": {},
     "output_type": "execute_result"
    }
   ],
   "source": [
    "from langchain_core.output_parsers import StrOutputParser\n",
    "\n",
    "output_parser = StrOutputParser()\n",
    "response_str = output_parser.invoke(response)\n",
    "response_str"
   ]
  },
  {
   "cell_type": "markdown",
   "id": "18e5a647",
   "metadata": {},
   "source": [
    "#### LCEL - Langchain Expression Language\n",
    "\n",
    "Let's do this using Langchain Expression Language (**LCEL**). Using LCEL we can chain the components. "
   ]
  },
  {
   "cell_type": "code",
   "execution_count": 15,
   "id": "0c5764c9",
   "metadata": {},
   "outputs": [
    {
     "data": {
      "text/plain": [
       "'Здравей, как си? (Zdravey, kak si?)\\n\\n\\nThis is the most common and informal way to say \"Hey, How are you?\" in Bulgarian. \\n'"
      ]
     },
     "execution_count": 15,
     "metadata": {},
     "output_type": "execute_result"
    }
   ],
   "source": [
    "chain = model | output_parser\n",
    "\n",
    "chain.invoke(messages)"
   ]
  },
  {
   "cell_type": "markdown",
   "id": "85ef3151",
   "metadata": {},
   "source": [
    "Using ChatPromptTemplate"
   ]
  },
  {
   "cell_type": "code",
   "execution_count": 18,
   "id": "d4993cd9",
   "metadata": {},
   "outputs": [
    {
     "data": {
      "text/plain": [
       "'Нужно ми паца, пари! 💸\\n'"
      ]
     },
     "execution_count": 18,
     "metadata": {},
     "output_type": "execute_result"
    }
   ],
   "source": [
    "from langchain_core.prompts import ChatPromptTemplate\n",
    "from langchain_core.messages import SystemMessage, HumanMessage\n",
    "from langchain_core.output_parsers import StrOutputParser\n",
    "\n",
    "prompt_template = ChatPromptTemplate.from_messages(messages=[\n",
    "    ('system', 'Translate this from {srcLang} to {tgtLang} in most informal way. Try to use some swag. Just answer, without explanation'),\n",
    "    ('user', '{input}')\n",
    "])\n",
    "\n",
    "output_parser = StrOutputParser()\n",
    "\n",
    "chain = prompt_template | model | output_parser\n",
    "\n",
    "response = chain.invoke(input={\n",
    "    'srcLang': 'English',\n",
    "    'tgtLang': 'Bulgarian',\n",
    "    'input': 'I need more money'\n",
    "})\n",
    "\n",
    "response"
   ]
  },
  {
   "cell_type": "markdown",
   "id": "05df4247",
   "metadata": {},
   "source": []
  }
 ],
 "metadata": {
  "kernelspec": {
   "display_name": "langchain-basics",
   "language": "python",
   "name": "python3"
  },
  "language_info": {
   "codemirror_mode": {
    "name": "ipython",
    "version": 3
   },
   "file_extension": ".py",
   "mimetype": "text/x-python",
   "name": "python",
   "nbconvert_exporter": "python",
   "pygments_lexer": "ipython3",
   "version": "3.13.5"
  }
 },
 "nbformat": 4,
 "nbformat_minor": 5
}
