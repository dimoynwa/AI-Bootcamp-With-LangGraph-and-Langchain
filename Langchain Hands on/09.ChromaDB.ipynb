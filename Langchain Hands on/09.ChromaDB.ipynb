{
 "cells": [
  {
   "cell_type": "markdown",
   "id": "9f873e6e",
   "metadata": {},
   "source": [
    "## Chroma DB\n",
    "\n",
    "It is an AI-native open-source vector database focused on developer productivity. It is licenced under Apache 2.0.\n",
    "\n",
    "To use chroma we need to install the package using `pip install chromadb` and also `pip install langchain-chroma`.\n",
    "\n",
    "In this tutorial, we will build a sample vectordb from documents."
   ]
  },
  {
   "cell_type": "code",
   "execution_count": 2,
   "id": "740d8908",
   "metadata": {},
   "outputs": [
    {
     "name": "stderr",
     "output_type": "stream",
     "text": [
      "Created a chunk of size 387, which is longer than the specified 100\n",
      "Created a chunk of size 625, which is longer than the specified 100\n"
     ]
    },
    {
     "data": {
      "text/plain": [
       "<langchain_chroma.vectorstores.Chroma at 0x1207ffed0>"
      ]
     },
     "execution_count": 2,
     "metadata": {},
     "output_type": "execute_result"
    }
   ],
   "source": [
    "import os\n",
    "from langchain_chroma import Chroma\n",
    "from langchain.document_loaders import TextLoader\n",
    "from langchain.text_splitter import CharacterTextSplitter\n",
    "from langchain_ollama import OllamaEmbeddings\n",
    "\n",
    "file_path = 'levski.txt'\n",
    "assert os.path.exists(file_path)\n",
    "\n",
    "text_loader = TextLoader(file_path=file_path)\n",
    "docs = text_loader.load()\n",
    "\n",
    "text_splitter = CharacterTextSplitter(chunk_size=100, chunk_overlap=10)\n",
    "splitted_docs = text_splitter.split_documents(documents=docs)\n",
    "\n",
    "embeddings = OllamaEmbeddings(model='gemma:2b')\n",
    "\n",
    "db_persist_dir = 'chroma'\n",
    "database = Chroma.from_documents(documents=splitted_docs, embedding=embeddings,\n",
    "                                 persist_directory=db_persist_dir)\n",
    "\n",
    "assert os.path.exists(db_persist_dir)\n",
    "database"
   ]
  },
  {
   "cell_type": "markdown",
   "id": "7ba6ccf5",
   "metadata": {},
   "source": [
    "Query from the Chroma DB"
   ]
  },
  {
   "cell_type": "code",
   "execution_count": 3,
   "id": "b2e195a0",
   "metadata": {},
   "outputs": [
    {
     "name": "stdout",
     "output_type": "stream",
     "text": [
      "Similarity 0: page_content='The team's home kit colour is all-blue. Levski's home ground is the Georgi Asparuhov Stadium in Sofia, which has a capacity of 17,688 spectators. The club's fiercest rival is CSKA Sofia, and matches between the two capital sides are commonly referred to as the Eternal derby of Bulgaria. Levski also contests the Oldest capital derby with Slavia Sofia, since 1915. The club is a regular member of the European Club Association and the European Multisport Club Association.' metadata={'source': 'levski.txt'}\n",
      "Similarity 1: page_content='Levski have won a total of 74 trophies, including 26 national championships, 26 national cups and 3 supercups, as well as 13 domestic doubles and one treble. They are the only Bulgarian football club to have never been relegated from the top division since the establishment of the league system in 1937.[1] On the international stage, Levski reached the quarter-finals of the UEFA Cup twice and the quarter-finals of the Cup Winners' Cup three times. In addition, they finished as runners-up of the Balkans Cup twice, and in 2006, they became the first Bulgarian club to play in the group stage of the UEFA Champions League.' metadata={'source': 'levski.txt'}\n",
      "Similarity 2: page_content='PFC Levski Sofia (Bulgarian: ПФК Левски София) is a Bulgarian professional association football club based in Sofia, which competes in the First League, the top division of the Bulgarian football league system. The club was founded on 24 May 1914 by a group of high school students, and is named after Vasil Levski, a Bulgarian revolutionary renowned as the national hero of the country.' metadata={'source': 'levski.txt'}\n"
     ]
    }
   ],
   "source": [
    "query = 'How many trophies did the team win?'\n",
    "\n",
    "similar = database.similarity_search(query=query, k=3)\n",
    "for i, s in enumerate(similar):\n",
    "    print(f'Similarity {i}: {s}')"
   ]
  },
  {
   "cell_type": "markdown",
   "id": "191b22a2",
   "metadata": {},
   "source": [
    "#### Save and load"
   ]
  },
  {
   "cell_type": "code",
   "execution_count": 4,
   "id": "029c86e3",
   "metadata": {},
   "outputs": [
    {
     "data": {
      "text/plain": [
       "<langchain_chroma.vectorstores.Chroma at 0x117b38050>"
      ]
     },
     "execution_count": 4,
     "metadata": {},
     "output_type": "execute_result"
    }
   ],
   "source": [
    "import os\n",
    "\n",
    "db_folder = './chroma'\n",
    "assert os.path.exists(db_folder)\n",
    "\n",
    "loaded_db = Chroma(embedding_function=embeddings, persist_directory=db_folder)\n",
    "loaded_db"
   ]
  },
  {
   "cell_type": "markdown",
   "id": "afb58e9e",
   "metadata": {},
   "source": [
    "### Retriever option"
   ]
  },
  {
   "cell_type": "code",
   "execution_count": 5,
   "id": "768bba89",
   "metadata": {},
   "outputs": [
    {
     "name": "stdout",
     "output_type": "stream",
     "text": [
      "Retrieved 0: page_content='The team's home kit colour is all-blue. Levski's home ground is the Georgi Asparuhov Stadium in Sofia, which has a capacity of 17,688 spectators. The club's fiercest rival is CSKA Sofia, and matches between the two capital sides are commonly referred to as the Eternal derby of Bulgaria. Levski also contests the Oldest capital derby with Slavia Sofia, since 1915. The club is a regular member of the European Club Association and the European Multisport Club Association.' metadata={'source': 'levski.txt'}\n",
      "Retrieved 1: page_content='Levski have won a total of 74 trophies, including 26 national championships, 26 national cups and 3 supercups, as well as 13 domestic doubles and one treble. They are the only Bulgarian football club to have never been relegated from the top division since the establishment of the league system in 1937.[1] On the international stage, Levski reached the quarter-finals of the UEFA Cup twice and the quarter-finals of the Cup Winners' Cup three times. In addition, they finished as runners-up of the Balkans Cup twice, and in 2006, they became the first Bulgarian club to play in the group stage of the UEFA Champions League.' metadata={'source': 'levski.txt'}\n",
      "Retrieved 2: page_content='PFC Levski Sofia (Bulgarian: ПФК Левски София) is a Bulgarian professional association football club based in Sofia, which competes in the First League, the top division of the Bulgarian football league system. The club was founded on 24 May 1914 by a group of high school students, and is named after Vasil Levski, a Bulgarian revolutionary renowned as the national hero of the country.' metadata={'source': 'levski.txt'}\n"
     ]
    }
   ],
   "source": [
    "retriever = loaded_db.as_retriever()\n",
    "retrieved = retriever.invoke(input=query, k=3)\n",
    "\n",
    "for i, r in enumerate(retrieved):\n",
    "    print(f'Retrieved {i}: {r}')"
   ]
  },
  {
   "cell_type": "markdown",
   "id": "1d1bbb48",
   "metadata": {},
   "source": [
    "data"
   ]
  },
  {
   "cell_type": "markdown",
   "id": "badcbeb4",
   "metadata": {},
   "source": []
  }
 ],
 "metadata": {
  "kernelspec": {
   "display_name": "langchain",
   "language": "python",
   "name": "python3"
  },
  "language_info": {
   "codemirror_mode": {
    "name": "ipython",
    "version": 3
   },
   "file_extension": ".py",
   "mimetype": "text/x-python",
   "name": "python",
   "nbconvert_exporter": "python",
   "pygments_lexer": "ipython3",
   "version": "3.13.5"
  }
 },
 "nbformat": 4,
 "nbformat_minor": 5
}
