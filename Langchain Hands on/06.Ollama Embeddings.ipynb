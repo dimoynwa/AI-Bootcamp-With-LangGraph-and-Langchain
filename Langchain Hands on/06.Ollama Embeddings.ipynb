{
 "cells": [
  {
   "cell_type": "markdown",
   "id": "99a30411",
   "metadata": {},
   "source": [
    "## What is Ollama\n",
    "\n",
    "Ollama is a platform where you will be able use opensource models like **Llama 3**, **Phi 3**, **Mistral**, **Gemma** and others.\n",
    "\n",
    "All Ollama embedding models can be found in [GitHub](https://github.com/ollama/ollama)\n",
    "\n",
    "After we have **Ollama** installed, we need to run our model to be able to use it.\n",
    "To run a model we need to run `ollama run <model-name>`\n",
    "\n",
    "For this tutorial we will use **gemma:2b** model, so we need to run:\n",
    "`ollama run gemma:2b`. This will automatically download **gemma:2b** model, which is 1.7 GB on the machine and will serve it."
   ]
  },
  {
   "cell_type": "code",
   "execution_count": 2,
   "id": "cd93a04f",
   "metadata": {},
   "outputs": [],
   "source": [
    "from langchain_ollama import OllamaEmbeddings\n",
    "\n",
    "embeddings = OllamaEmbeddings(base_url='http://localhost:11434', model='gemma:2b') # By defauld model is llama2"
   ]
  },
  {
   "cell_type": "code",
   "execution_count": 4,
   "id": "bb96af57",
   "metadata": {},
   "outputs": [
    {
     "name": "stdout",
     "output_type": "stream",
     "text": [
      "R1 size: 2\n",
      "R1 embedding size: 2048\n"
     ]
    }
   ],
   "source": [
    "r1 = embeddings.embed_documents(texts=[\n",
    "    \"Alpha is the first letter of Greek alphabet\",\n",
    "    \"Beta is the second letter of Greek alphabet\"\n",
    "])\n",
    "\n",
    "print(f'R1 size: {len(r1)}')\n",
    "print(f'R1 embedding size: {max([len(r) for r in r1])}')"
   ]
  },
  {
   "cell_type": "markdown",
   "id": "138b1203",
   "metadata": {},
   "source": [
    "#### Embed a query. \n",
    "\n",
    "Here we embed just 1 sentence. "
   ]
  },
  {
   "cell_type": "code",
   "execution_count": null,
   "id": "671b8a04",
   "metadata": {},
   "outputs": [],
   "source": [
    "query_emb = embeddings.embed_query(\"What is the second letter of Greek alphabet?\")\n",
    "print()"
   ]
  },
  {
   "cell_type": "markdown",
   "id": "847423a1",
   "metadata": {},
   "source": []
  }
 ],
 "metadata": {
  "kernelspec": {
   "display_name": "langchain",
   "language": "python",
   "name": "python3"
  },
  "language_info": {
   "codemirror_mode": {
    "name": "ipython",
    "version": 3
   },
   "file_extension": ".py",
   "mimetype": "text/x-python",
   "name": "python",
   "nbconvert_exporter": "python",
   "pygments_lexer": "ipython3",
   "version": "3.13.5"
  }
 },
 "nbformat": 4,
 "nbformat_minor": 5
}
