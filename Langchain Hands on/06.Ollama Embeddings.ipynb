{
 "cells": [
  {
   "cell_type": "markdown",
   "id": "99a30411",
   "metadata": {},
   "source": [
    "## What is Ollama\n",
    "\n",
    "Ollama is a platform where you will be able use opensource models like Llama 3, Phi 3, Mistral, Gemma and others"
   ]
  }
 ],
 "metadata": {
  "language_info": {
   "name": "python"
  }
 },
 "nbformat": 4,
 "nbformat_minor": 5
}
