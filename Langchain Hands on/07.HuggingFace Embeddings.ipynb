{
 "cells": [
  {
   "cell_type": "markdown",
   "id": "c7582b85",
   "metadata": {},
   "source": [
    "### HuggingFace embedding techniques\n",
    "\n",
    "To use **HuggingFace** embeddings we first need to have **READ** `access_key` from [HuggingFace](https://huggingface.co/). This access token will be set in `HF_TOKEN` environment variable.\n",
    "\n",
    "Then we need to install `sentence_transformers` library using `pip install sentence_transformers`. And now we can use this sentence embeddint transformers technique for embeddings.\n",
    "\n",
    "To use **langchain** with HuggingFace embeddings, we also need `langchain_huggingface` python package using `pip install langchain_huggingface`"
   ]
  },
  {
   "cell_type": "code",
   "execution_count": 1,
   "id": "92a2d7c1",
   "metadata": {},
   "outputs": [
    {
     "name": "stdout",
     "output_type": "stream",
     "text": [
      "HF_TOKEN: hf_***qiW\n"
     ]
    }
   ],
   "source": [
    "import os\n",
    "from dotenv import load_dotenv\n",
    "\n",
    "load_dotenv() # Load all the environment variables\n",
    "\n",
    "HF_TOKEN = os.environ['HF_TOKEN']\n",
    "\n",
    "print(f\"HF_TOKEN: {HF_TOKEN[:3]}***{HF_TOKEN[-3:]}\") # Ensure HF_TOKEN is set"
   ]
  },
  {
   "cell_type": "markdown",
   "id": "c9746631",
   "metadata": {},
   "source": [
    "#### Sentence transformers on **HuggingFace**.\n",
    "HuggingFace sentence-transformers is a Python framework for state-of-the-art sentence, text and image embeddings. One of the embedding models is used in the HuggingFaceEmbeddings class. We have also added an alias for SentenceTransformerEmbeddings for users who are more familliar with directly using that package."
   ]
  },
  {
   "cell_type": "code",
   "execution_count": 2,
   "id": "5f8716c4",
   "metadata": {},
   "outputs": [
    {
     "name": "stderr",
     "output_type": "stream",
     "text": [
      "/opt/homebrew/anaconda3/envs/langchain/lib/python3.13/site-packages/tqdm/auto.py:21: TqdmWarning: IProgress not found. Please update jupyter and ipywidgets. See https://ipywidgets.readthedocs.io/en/stable/user_install.html\n",
      "  from .autonotebook import tqdm as notebook_tqdm\n"
     ]
    }
   ],
   "source": [
    "from langchain_huggingface import HuggingFaceEmbeddings\n",
    "\n",
    "embeddings = HuggingFaceEmbeddings(model_name='all-MiniLM-L6-v2')"
   ]
  },
  {
   "cell_type": "code",
   "execution_count": 3,
   "id": "41e4b004",
   "metadata": {},
   "outputs": [
    {
     "name": "stdout",
     "output_type": "stream",
     "text": [
      "HuggingFace embedding size: 384\n"
     ]
    }
   ],
   "source": [
    "text = 'This is a test document'\n",
    "query_result = embeddings.embed_query(text)\n",
    "\n",
    "print(f'HuggingFace embedding size: {len(query_result)}')"
   ]
  },
  {
   "cell_type": "markdown",
   "id": "2f05697c",
   "metadata": {},
   "source": []
  }
 ],
 "metadata": {
  "kernelspec": {
   "display_name": "langchain",
   "language": "python",
   "name": "python3"
  },
  "language_info": {
   "codemirror_mode": {
    "name": "ipython",
    "version": 3
   },
   "file_extension": ".py",
   "mimetype": "text/x-python",
   "name": "python",
   "nbconvert_exporter": "python",
   "pygments_lexer": "ipython3",
   "version": "3.13.5"
  }
 },
 "nbformat": 4,
 "nbformat_minor": 5
}
