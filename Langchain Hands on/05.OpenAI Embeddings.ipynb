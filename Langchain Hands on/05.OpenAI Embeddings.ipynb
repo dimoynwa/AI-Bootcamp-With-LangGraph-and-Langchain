{
 "cells": [
  {
   "cell_type": "markdown",
   "id": "ef6a1a8b",
   "metadata": {},
   "source": [
    "## Embedding Techniques\n",
    "\n",
    "Converting text into vectors."
   ]
  },
  {
   "cell_type": "markdown",
   "id": "9d903023",
   "metadata": {},
   "source": [
    "Calling load_dotenv(). will parse a .env file and then load all the variables found as environment variables.\n",
    "\n"
   ]
  },
  {
   "cell_type": "code",
   "execution_count": null,
   "id": "d9f69d6f",
   "metadata": {},
   "outputs": [
    {
     "name": "stdout",
     "output_type": "stream",
     "text": [
      "OPENAI_API_KEY: sk-proj-tu***\n"
     ]
    }
   ],
   "source": [
    "import os\n",
    "from dotenv import load_dotenv\n",
    "\n",
    "load_dotenv() # Load all the environment variables\n",
    "print(f\"OPENAI_API_KEY: {os.environ['OPENAI_API_KEY'][:10]}***\") # Ensure OPENAI_API_KEY is set"
   ]
  },
  {
   "cell_type": "markdown",
   "id": "1500eff8",
   "metadata": {},
   "source": [
    "Use OpenAI embeddings.\n",
    "\n",
    "Doc: [OpenAI Embeddings](https://platform.openai.com/docs/guides/embeddings)"
   ]
  },
  {
   "cell_type": "code",
   "execution_count": 5,
   "id": "80e0f066",
   "metadata": {},
   "outputs": [
    {
     "data": {
      "text/plain": [
       "OpenAIEmbeddings(client=<openai.resources.embeddings.Embeddings object at 0x110d0bcb0>, async_client=<openai.resources.embeddings.AsyncEmbeddings object at 0x1115206e0>, model='text-embedding-3-small', dimensions=None, deployment='text-embedding-ada-002', openai_api_version=None, openai_api_base=None, openai_api_type=None, openai_proxy=None, embedding_ctx_length=8191, openai_api_key=SecretStr('**********'), openai_organization=None, allowed_special=None, disallowed_special=None, chunk_size=1000, max_retries=2, request_timeout=None, headers=None, tiktoken_enabled=True, tiktoken_model_name=None, show_progress_bar=False, model_kwargs={}, skip_empty=False, default_headers=None, default_query=None, retry_min_seconds=4, retry_max_seconds=20, http_client=None, http_async_client=None, check_embedding_ctx_length=True)"
      ]
     },
     "execution_count": 5,
     "metadata": {},
     "output_type": "execute_result"
    }
   ],
   "source": [
    "from langchain_openai import OpenAIEmbeddings\n",
    "\n",
    "model_name = 'text-embedding-3-small'\n",
    "embeddings = OpenAIEmbeddings(model=model_name)\n",
    "embeddings"
   ]
  },
  {
   "cell_type": "code",
   "execution_count": 6,
   "id": "3eb2fb59",
   "metadata": {},
   "outputs": [],
   "source": [
    "text = 'This is an tutorial on OpenAI embeddings'\n",
    "query_result = embeddings.embed_documents(texts=[text])"
   ]
  },
  {
   "cell_type": "code",
   "execution_count": 8,
   "id": "ac191f45",
   "metadata": {},
   "outputs": [
    {
     "name": "stdout",
     "output_type": "stream",
     "text": [
      "1 vectors with size 1536\n"
     ]
    }
   ],
   "source": [
    "print(f'{len(query_result)} vectors with size {0 if len(query_result) == 0 else len(query_result[0])}')"
   ]
  },
  {
   "cell_type": "markdown",
   "id": "9e456b5c",
   "metadata": {},
   "source": [
    "## Embed documents\n",
    "\n",
    "As we will use **ChromaDB**, we need to install it first using `pip install chromadb`\n",
    "\n",
    "1. Load TXT file using langchain `TextLoader`\n",
    "2. Split the txt into documents using langchant `RecursiveCharacterTextSpliter`\n",
    "3. Call `OpenAIEmbeddings` to embed chunks into vectors\n",
    "4. Store embeddings into `ChromaDB`"
   ]
  },
  {
   "cell_type": "code",
   "execution_count": 10,
   "id": "fd18edfd",
   "metadata": {},
   "outputs": [],
   "source": [
    "import os\n",
    "from langchain.document_loaders import TextLoader\n",
    "from langchain.text_splitter import RecursiveCharacterTextSplitter\n",
    "from langchain_openai import OpenAIEmbeddings\n",
    "from langchain.vectorstores import Chroma\n",
    "\n",
    "file_name = 'levski.txt'\n",
    "assert os.path.exists(file_name)\n",
    "\n",
    "text_loader = TextLoader(file_path='levski.txt')\n",
    "text_docs = text_loader.load()\n",
    "\n",
    "text_splitter = RecursiveCharacterTextSplitter(chunk_size=300, chunk_overlap=20)\n",
    "split_docs = text_splitter.split_documents(text_docs)\n",
    "split_docs\n",
    "\n",
    "# Create OpenAI embeddings\n",
    "model_name = 'text-embedding-3-small'\n",
    "embedding = OpenAIEmbeddings(model=model_name)\n",
    "\n",
    "# Create ChromaDB\n",
    "chroma_store = Chroma.from_documents(documents=split_docs, embedding=embedding,\n",
    "                                     persist_directory='./chromadb')"
   ]
  },
  {
   "cell_type": "markdown",
   "id": "13b9c514",
   "metadata": {},
   "source": [
    "How to **query** from the **ChromaDb**"
   ]
  },
  {
   "cell_type": "code",
   "execution_count": null,
   "id": "c8debf68",
   "metadata": {},
   "outputs": [],
   "source": [
    "query = 'Levski have won a total of 74 trophies'\n",
    "chroma_store.similarity_search(query=query, k=3)"
   ]
  }
 ],
 "metadata": {
  "kernelspec": {
   "display_name": "langchain",
   "language": "python",
   "name": "python3"
  },
  "language_info": {
   "codemirror_mode": {
    "name": "ipython",
    "version": 3
   },
   "file_extension": ".py",
   "mimetype": "text/x-python",
   "name": "python",
   "nbconvert_exporter": "python",
   "pygments_lexer": "ipython3",
   "version": "3.13.5"
  }
 },
 "nbformat": 4,
 "nbformat_minor": 5
}
