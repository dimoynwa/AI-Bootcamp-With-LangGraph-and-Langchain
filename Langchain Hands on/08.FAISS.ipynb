{
 "cells": [
  {
   "cell_type": "markdown",
   "id": "0c5c156e",
   "metadata": {},
   "source": [
    "## FAISS\n",
    "\n",
    "**FAISS** (Facebook AI Similarity Search) is a library for efficient similarity search and clustering of dense vectors. It contains alghorithms that search in sets of vectors of any size, up to ones that possibly do NOT fit in RAM. It also contains supporting code for evaluation and parameter tunning.\n",
    "\n",
    "To use `FAISS` we also need to install FAISS package using `pip install faiss-cpu`"
   ]
  },
  {
   "cell_type": "code",
   "execution_count": 1,
   "id": "a38cbe90",
   "metadata": {},
   "outputs": [
    {
     "name": "stderr",
     "output_type": "stream",
     "text": [
      "Created a chunk of size 387, which is longer than the specified 200\n",
      "Created a chunk of size 625, which is longer than the specified 200\n"
     ]
    }
   ],
   "source": [
    "import os\n",
    "from langchain.document_loaders import TextLoader\n",
    "from langchain.vectorstores import FAISS\n",
    "from langchain.embeddings import OllamaEmbeddings\n",
    "from langchain.text_splitter import CharacterTextSplitter\n",
    "\n",
    "file_path = 'levski.txt'\n",
    "assert os.path.exists(file_path)\n",
    "\n",
    "loader = TextLoader(file_path=file_path)\n",
    "raw_documets = loader.load()\n",
    "text_splitter = CharacterTextSplitter(chunk_size=200, chunk_overlap=30)\n",
    "\n",
    "documents = text_splitter.split_documents(raw_documets)"
   ]
  },
  {
   "cell_type": "markdown",
   "id": "6c8e7b07",
   "metadata": {},
   "source": [
    "Create **FAISS** database."
   ]
  },
  {
   "cell_type": "code",
   "execution_count": 2,
   "id": "aab333bd",
   "metadata": {},
   "outputs": [
    {
     "name": "stderr",
     "output_type": "stream",
     "text": [
      "/var/folders/g9/x11cjlw56ln82_76czqsvqvr0000gn/T/ipykernel_39038/4220214826.py:1: LangChainDeprecationWarning: The class `OllamaEmbeddings` was deprecated in LangChain 0.3.1 and will be removed in 1.0.0. An updated version of the class exists in the :class:`~langchain-ollama package and should be used instead. To use it run `pip install -U :class:`~langchain-ollama` and import as `from :class:`~langchain_ollama import OllamaEmbeddings``.\n",
      "  embeddings = OllamaEmbeddings(model='gemma:2b')\n"
     ]
    },
    {
     "data": {
      "text/plain": [
       "<langchain_community.vectorstores.faiss.FAISS at 0x10f38f620>"
      ]
     },
     "execution_count": 2,
     "metadata": {},
     "output_type": "execute_result"
    }
   ],
   "source": [
    "embeddings = OllamaEmbeddings(model='gemma:2b')\n",
    "db = FAISS.from_documents(documents=documents, embedding=embeddings)\n",
    "db"
   ]
  },
  {
   "cell_type": "markdown",
   "id": "89baa397",
   "metadata": {},
   "source": [
    "#### Quering from FAISS database"
   ]
  },
  {
   "cell_type": "code",
   "execution_count": 3,
   "id": "34ab0f06",
   "metadata": {},
   "outputs": [
    {
     "name": "stdout",
     "output_type": "stream",
     "text": [
      "Similarities size 2\n",
      "Similar doc: page_content='The team's home kit colour is all-blue. Levski's home ground is the Georgi Asparuhov Stadium in Sofia, which has a capacity of 17,688 spectators. The club's fiercest rival is CSKA Sofia, and matches between the two capital sides are commonly referred to as the Eternal derby of Bulgaria. Levski also contests the Oldest capital derby with Slavia Sofia, since 1915. The club is a regular member of the European Club Association and the European Multisport Club Association.' metadata={'source': 'levski.txt'}\n",
      "Similar doc: page_content='Levski have won a total of 74 trophies, including 26 national championships, 26 national cups and 3 supercups, as well as 13 domestic doubles and one treble. They are the only Bulgarian football club to have never been relegated from the top division since the establishment of the league system in 1937.[1] On the international stage, Levski reached the quarter-finals of the UEFA Cup twice and the quarter-finals of the Cup Winners' Cup three times. In addition, they finished as runners-up of the Balkans Cup twice, and in 2006, they became the first Bulgarian club to play in the group stage of the UEFA Champions League.' metadata={'source': 'levski.txt'}\n"
     ]
    }
   ],
   "source": [
    "query = 'How many trophies did the team win?'\n",
    "similar = db.similarity_search(query=query, k=2)\n",
    "\n",
    "print(f'Similarities size {len(similar)}')\n",
    "for s in similar:\n",
    "    print(f'Similar doc: {s}')"
   ]
  },
  {
   "cell_type": "markdown",
   "id": "fec37ec1",
   "metadata": {},
   "source": [
    "Example with respect of **Retrieval**. What a **Retriever** do?\n",
    "We can also convert the vectorstore as a Retriever. This allows us to easily use it in other Langchain methods, which largely works with Retrievers. \n",
    "\n",
    "Retrievers are like an interface, which will be able to retrieve the details from the vector store and provide the response. "
   ]
  },
  {
   "cell_type": "code",
   "execution_count": 4,
   "id": "52827ab4",
   "metadata": {},
   "outputs": [
    {
     "data": {
      "text/plain": [
       "[Document(id='2fb99872-921b-4009-b56b-32fc7fe55ab1', metadata={'source': 'levski.txt'}, page_content=\"The team's home kit colour is all-blue. Levski's home ground is the Georgi Asparuhov Stadium in Sofia, which has a capacity of 17,688 spectators. The club's fiercest rival is CSKA Sofia, and matches between the two capital sides are commonly referred to as the Eternal derby of Bulgaria. Levski also contests the Oldest capital derby with Slavia Sofia, since 1915. The club is a regular member of the European Club Association and the European Multisport Club Association.\"),\n",
       " Document(id='d40e4e5f-a33d-4f07-9f4f-47606bec91a0', metadata={'source': 'levski.txt'}, page_content=\"Levski have won a total of 74 trophies, including 26 national championships, 26 national cups and 3 supercups, as well as 13 domestic doubles and one treble. They are the only Bulgarian football club to have never been relegated from the top division since the establishment of the league system in 1937.[1] On the international stage, Levski reached the quarter-finals of the UEFA Cup twice and the quarter-finals of the Cup Winners' Cup three times. In addition, they finished as runners-up of the Balkans Cup twice, and in 2006, they became the first Bulgarian club to play in the group stage of the UEFA Champions League.\")]"
      ]
     },
     "execution_count": 4,
     "metadata": {},
     "output_type": "execute_result"
    }
   ],
   "source": [
    "retriever = db.as_retriever()\n",
    "retrieved = retriever.invoke(input=query, k=2)\n",
    "retrieved"
   ]
  },
  {
   "cell_type": "markdown",
   "id": "15de22c6",
   "metadata": {},
   "source": [
    "#### Similarity search with score\n",
    "\n",
    "There are some **FAISS** specific methods. One of them is **similarity_search_with_score**, which allows you to return not only the documents but also the distance score of the query to them. The returned score is L2 distance between. **A lower score is better**."
   ]
  },
  {
   "cell_type": "code",
   "execution_count": 6,
   "id": "a8b9429d",
   "metadata": {},
   "outputs": [
    {
     "name": "stdout",
     "output_type": "stream",
     "text": [
      "Query: How many trophies did the team win?\n",
      "Similarity 1\n",
      "Doc: page_content='The team's home kit colour is all-blue. Levski's home ground is the Georgi Asparuhov Stadium in Sofia, which has a capacity of 17,688 spectators. The club's fiercest rival is CSKA Sofia, and matches between the two capital sides are commonly referred to as the Eternal derby of Bulgaria. Levski also contests the Oldest capital derby with Slavia Sofia, since 1915. The club is a regular member of the European Club Association and the European Multisport Club Association.' metadata={'source': 'levski.txt'}\n",
      "Score: 2621.935546875\n",
      "Similarity 2\n",
      "Doc: page_content='Levski have won a total of 74 trophies, including 26 national championships, 26 national cups and 3 supercups, as well as 13 domestic doubles and one treble. They are the only Bulgarian football club to have never been relegated from the top division since the establishment of the league system in 1937.[1] On the international stage, Levski reached the quarter-finals of the UEFA Cup twice and the quarter-finals of the Cup Winners' Cup three times. In addition, they finished as runners-up of the Balkans Cup twice, and in 2006, they became the first Bulgarian club to play in the group stage of the UEFA Champions League.' metadata={'source': 'levski.txt'}\n",
      "Score: 2938.146484375\n",
      "Similarity 3\n",
      "Doc: page_content='PFC Levski Sofia (Bulgarian: ПФК Левски София) is a Bulgarian professional association football club based in Sofia, which competes in the First League, the top division of the Bulgarian football league system. The club was founded on 24 May 1914 by a group of high school students, and is named after Vasil Levski, a Bulgarian revolutionary renowned as the national hero of the country.' metadata={'source': 'levski.txt'}\n",
      "Score: 3180.251953125\n"
     ]
    }
   ],
   "source": [
    "print(f'Query: {query}')\n",
    "\n",
    "docs_and_score = db.similarity_search_with_score(query=query, k=3)\n",
    "for i, (doc, score) in enumerate(docs_and_score):\n",
    "    print(f'Similarity {i + 1}')\n",
    "    print(f'Doc: {doc}')\n",
    "    print(f'Score: {score}')"
   ]
  },
  {
   "cell_type": "markdown",
   "id": "d48f7b2a",
   "metadata": {},
   "source": [
    "We can also pass **vectors** (preprocessed embeddings) to FAISS and it can query based on vector."
   ]
  },
  {
   "cell_type": "code",
   "execution_count": 7,
   "id": "299e0736",
   "metadata": {},
   "outputs": [
    {
     "name": "stdout",
     "output_type": "stream",
     "text": [
      "Query_embeddings type: <class 'list'> with length: 2048\n",
      "Similarity 1\n",
      "Doc: page_content='The team's home kit colour is all-blue. Levski's home ground is the Georgi Asparuhov Stadium in Sofia, which has a capacity of 17,688 spectators. The club's fiercest rival is CSKA Sofia, and matches between the two capital sides are commonly referred to as the Eternal derby of Bulgaria. Levski also contests the Oldest capital derby with Slavia Sofia, since 1915. The club is a regular member of the European Club Association and the European Multisport Club Association.' metadata={'source': 'levski.txt'}\n",
      "Score: 2621.935546875\n",
      "Similarity 2\n",
      "Doc: page_content='Levski have won a total of 74 trophies, including 26 national championships, 26 national cups and 3 supercups, as well as 13 domestic doubles and one treble. They are the only Bulgarian football club to have never been relegated from the top division since the establishment of the league system in 1937.[1] On the international stage, Levski reached the quarter-finals of the UEFA Cup twice and the quarter-finals of the Cup Winners' Cup three times. In addition, they finished as runners-up of the Balkans Cup twice, and in 2006, they became the first Bulgarian club to play in the group stage of the UEFA Champions League.' metadata={'source': 'levski.txt'}\n",
      "Score: 2938.146484375\n",
      "Similarity 3\n",
      "Doc: page_content='PFC Levski Sofia (Bulgarian: ПФК Левски София) is a Bulgarian professional association football club based in Sofia, which competes in the First League, the top division of the Bulgarian football league system. The club was founded on 24 May 1914 by a group of high school students, and is named after Vasil Levski, a Bulgarian revolutionary renowned as the national hero of the country.' metadata={'source': 'levski.txt'}\n",
      "Score: 3180.251953125\n"
     ]
    }
   ],
   "source": [
    "query_embeddings = embeddings.embed_query(query)\n",
    "print(f'Query_embeddings type: {type(query_embeddings)} with length: {len(query_embeddings)}')\n",
    "docs_and_score = db.similarity_search_with_score_by_vector(embedding=query_embeddings, k=3)\n",
    "for i, (doc, score) in enumerate(docs_and_score):\n",
    "    print(f'Similarity {i + 1}')\n",
    "    print(f'Doc: {doc}')\n",
    "    print(f'Score: {score}')"
   ]
  },
  {
   "cell_type": "markdown",
   "id": "8d8df3a2",
   "metadata": {},
   "source": [
    "How to `save` and `load` the **FAISS Database**.\n",
    "For saving we need to provide folder_path - where files will be saved and index_name for saving with specific index name.\n",
    "If the the folder_path does not exists, it will create the folder and we will have 2 files inside it:\n",
    "- <index_name>.faiss \n",
    "- <index_name>.pkl"
   ]
  },
  {
   "cell_type": "code",
   "execution_count": null,
   "id": "3010249b",
   "metadata": {},
   "outputs": [],
   "source": [
    "db.save_local(folder_path='faiss_index')"
   ]
  },
  {
   "cell_type": "markdown",
   "id": "29013960",
   "metadata": {},
   "source": [
    "To load the DB properly we need to pass `allow_dangerous_deserialization=True` because we are reading a pkl file. With that property we are saying that we realy trust this file."
   ]
  },
  {
   "cell_type": "code",
   "execution_count": 10,
   "id": "b29dc057",
   "metadata": {},
   "outputs": [],
   "source": [
    "import os\n",
    "from langchain.vectorstores import FAISS\n",
    "\n",
    "folder_path = 'faiss_index'\n",
    "assert os.path.exists(folder_path)\n",
    "\n",
    "faiss_db = FAISS.load_local(folder_path=folder_path, embeddings=embeddings,\n",
    "                            allow_dangerous_deserialization=True)"
   ]
  },
  {
   "cell_type": "code",
   "execution_count": 11,
   "id": "0a30beab",
   "metadata": {},
   "outputs": [
    {
     "data": {
      "text/plain": [
       "[(Document(id='2fb99872-921b-4009-b56b-32fc7fe55ab1', metadata={'source': 'levski.txt'}, page_content=\"The team's home kit colour is all-blue. Levski's home ground is the Georgi Asparuhov Stadium in Sofia, which has a capacity of 17,688 spectators. The club's fiercest rival is CSKA Sofia, and matches between the two capital sides are commonly referred to as the Eternal derby of Bulgaria. Levski also contests the Oldest capital derby with Slavia Sofia, since 1915. The club is a regular member of the European Club Association and the European Multisport Club Association.\"),\n",
       "  np.float32(2621.9355)),\n",
       " (Document(id='d40e4e5f-a33d-4f07-9f4f-47606bec91a0', metadata={'source': 'levski.txt'}, page_content=\"Levski have won a total of 74 trophies, including 26 national championships, 26 national cups and 3 supercups, as well as 13 domestic doubles and one treble. They are the only Bulgarian football club to have never been relegated from the top division since the establishment of the league system in 1937.[1] On the international stage, Levski reached the quarter-finals of the UEFA Cup twice and the quarter-finals of the Cup Winners' Cup three times. In addition, they finished as runners-up of the Balkans Cup twice, and in 2006, they became the first Bulgarian club to play in the group stage of the UEFA Champions League.\"),\n",
       "  np.float32(2938.1465)),\n",
       " (Document(id='c4236535-54f2-4351-be3f-a5715dd037d0', metadata={'source': 'levski.txt'}, page_content='PFC Levski Sofia (Bulgarian: ПФК Левски София) is a Bulgarian professional association football club based in Sofia, which competes in the First League, the top division of the Bulgarian football league system. The club was founded on 24 May 1914 by a group of high school students, and is named after Vasil Levski, a Bulgarian revolutionary renowned as the national hero of the country.'),\n",
       "  np.float32(3180.252))]"
      ]
     },
     "execution_count": 11,
     "metadata": {},
     "output_type": "execute_result"
    }
   ],
   "source": [
    "docs = faiss_db.similarity_search_with_score(query=query, k=3)\n",
    "docs"
   ]
  },
  {
   "cell_type": "code",
   "execution_count": null,
   "id": "79c6bf76",
   "metadata": {},
   "outputs": [],
   "source": []
  }
 ],
 "metadata": {
  "kernelspec": {
   "display_name": "langchain",
   "language": "python",
   "name": "python3"
  },
  "language_info": {
   "codemirror_mode": {
    "name": "ipython",
    "version": 3
   },
   "file_extension": ".py",
   "mimetype": "text/x-python",
   "name": "python",
   "nbconvert_exporter": "python",
   "pygments_lexer": "ipython3",
   "version": "3.13.5"
  }
 },
 "nbformat": 4,
 "nbformat_minor": 5
}
